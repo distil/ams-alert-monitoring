{
 "cells": [
  {
   "cell_type": "markdown",
   "metadata": {},
   "source": [
    "https://docs.google.com/spreadsheets/d/10QCryRqYBlS-kE_ExHaGaSZU2JfS88BGcBss-KYr0Wk/edit#gid=0"
   ]
  },
  {
   "cell_type": "code",
   "execution_count": 60,
   "metadata": {},
   "outputs": [],
   "source": [
    "from utilities.google_client import google_sheet_API\n",
    "from utilities.athena_client import athena_API\n",
    "import multiprocessing as mp\n",
    "\n",
    "import pandas as pd\n",
    "from configparser import ConfigParser\n",
    "import os\n",
    "import pyathena\n",
    "import time"
   ]
  },
  {
   "cell_type": "code",
   "execution_count": 64,
   "metadata": {},
   "outputs": [
    {
     "name": "stderr",
     "output_type": "stream",
     "text": [
      "Failed to execute query.\n",
      "Traceback (most recent call last):\n",
      "  File \"/Users/emanuele.bonura/.local/share/virtualenvs/ams-alert-monitoring-0ROOZaQw/lib/python3.7/site-packages/pyathena/common.py\", line 206, in _execute\n",
      "    **request).get('QueryExecutionId', None)\n",
      "  File \"/Users/emanuele.bonura/.local/share/virtualenvs/ams-alert-monitoring-0ROOZaQw/lib/python3.7/site-packages/pyathena/util.py\", line 214, in retry_api_call\n",
      "    return retry(func, *args, **kwargs)\n",
      "  File \"/Users/emanuele.bonura/.local/share/virtualenvs/ams-alert-monitoring-0ROOZaQw/lib/python3.7/site-packages/tenacity/__init__.py\", line 391, in call\n",
      "    do = self.iter(retry_state=retry_state)\n",
      "  File \"/Users/emanuele.bonura/.local/share/virtualenvs/ams-alert-monitoring-0ROOZaQw/lib/python3.7/site-packages/tenacity/__init__.py\", line 338, in iter\n",
      "    return fut.result()\n",
      "  File \"/Library/Frameworks/Python.framework/Versions/3.7/lib/python3.7/concurrent/futures/_base.py\", line 428, in result\n",
      "    return self.__get_result()\n",
      "  File \"/Library/Frameworks/Python.framework/Versions/3.7/lib/python3.7/concurrent/futures/_base.py\", line 384, in __get_result\n",
      "    raise self._exception\n",
      "  File \"/Users/emanuele.bonura/.local/share/virtualenvs/ams-alert-monitoring-0ROOZaQw/lib/python3.7/site-packages/tenacity/__init__.py\", line 394, in call\n",
      "    result = fn(*args, **kwargs)\n",
      "  File \"/Users/emanuele.bonura/.local/share/virtualenvs/ams-alert-monitoring-0ROOZaQw/lib/python3.7/site-packages/botocore/client.py\", line 316, in _api_call\n",
      "    return self._make_api_call(operation_name, kwargs)\n",
      "  File \"/Users/emanuele.bonura/.local/share/virtualenvs/ams-alert-monitoring-0ROOZaQw/lib/python3.7/site-packages/botocore/client.py\", line 626, in _make_api_call\n",
      "    raise error_class(parsed_response, operation_name)\n",
      "botocore.errorfactory.InvalidRequestException: An error occurred (InvalidRequestException) when calling the StartQueryExecution operation: line 1:1: mismatched input 'Descrive' expecting {'(', 'SELECT', 'DESC', 'USING', 'WITH', 'VALUES', 'CREATE', 'TABLE', 'INSERT', 'DELETE', 'DESCRIBE', 'GRANT', 'REVOKE', 'EXPLAIN', 'SHOW', 'USE', 'DROP', 'ALTER', 'SET', 'RESET', 'START', 'COMMIT', 'ROLLBACK', 'CALL', 'PREPARE', 'DEALLOCATE', 'EXECUTE'}\n"
     ]
    },
    {
     "name": "stdout",
     "output_type": "stream",
     "text": [
      "Execution failed on sql: Descrive\n",
      "An error occurred (InvalidRequestException) when calling the StartQueryExecution operation: line 1:1: mismatched input 'Descrive' expecting {'(', 'SELECT', 'DESC', 'USING', 'WITH', 'VALUES', 'CREATE', 'TABLE', 'INSERT', 'DELETE', 'DESCRIBE', 'GRANT', 'REVOKE', 'EXPLAIN', 'SHOW', 'USE', 'DROP', 'ALTER', 'SET', 'RESET', 'START', 'COMMIT', 'ROLLBACK', 'CALL', 'PREPARE', 'DEALLOCATE', 'EXECUTE'}\n",
      "unable to rollback\n"
     ]
    }
   ],
   "source": [
    "from botocore.exceptions import ClientError\n",
    "try:\n",
    "    athenaAPI.get_pandas_df('Descrive')\n",
    "except Exception as e:\n",
    "    print(e)"
   ]
  },
  {
   "cell_type": "code",
   "execution_count": 40,
   "metadata": {},
   "outputs": [],
   "source": [
    "# Initialise the 2 APIs \n",
    "gsheetAPI = google_sheet_API()\n",
    "athenaAPI = athena_API()"
   ]
  },
  {
   "cell_type": "code",
   "execution_count": 41,
   "metadata": {},
   "outputs": [],
   "source": [
    "# Retrieve the sheet and add the queries\n",
    "gsheet_df = gsheetAPI.retrieve_sheet_as_df()\n",
    "gsheet_df_queries = athenaAPI.add_row_queries(gsheet_df)\n",
    "\n",
    "# Get all the queries into one array\n",
    "queries = gsheet_df_queries['tw_query'].append(gsheet_df_queries['lw_query'], ignore_index=True)"
   ]
  },
  {
   "cell_type": "code",
   "execution_count": 42,
   "metadata": {},
   "outputs": [
    {
     "name": "stdout",
     "output_type": "stream",
     "text": [
      "Beginning multiprocessing at Thu Apr  2 12:26:19 2020, running 10 queries\n"
     ]
    }
   ],
   "source": [
    "print(f'Beginning multiprocessing at {time.asctime()}, running {len(queries)} queries on {mp.cpu_count()} threads')"
   ]
  },
  {
   "cell_type": "code",
   "execution_count": 43,
   "metadata": {},
   "outputs": [],
   "source": [
    "# Multiprocessing to run the queries simultaneously\n",
    "# It has to stay in the main function\n",
    "pool = mp.Pool(int(mp.cpu_count()/2))\n",
    "results = [pool.apply(athenaAPI.get_pandas_df, args=[query]) for query in queries]"
   ]
  },
  {
   "cell_type": "code",
   "execution_count": 44,
   "metadata": {},
   "outputs": [],
   "source": [
    "# Update the df with the count\n",
    "# This step is needed in case the results are not returned in the correct order\n",
    "results_list = [v.values[0][0] for v in results]\n",
    "results_dict = dict(zip(queries, results_list))\n",
    "gsheet_df_queries['tw_count'] = gsheet_df_queries['tw_query'].map(results_dict)\n",
    "gsheet_df_queries['lw_count'] = gsheet_df_queries['lw_query'].map(results_dict)"
   ]
  },
  {
   "cell_type": "code",
   "execution_count": 45,
   "metadata": {},
   "outputs": [],
   "source": [
    "#gsheet_df_queries = pd.DataFrame({'tw_count':  [112160,   81407, 1240195,     143,    1229], 'lw_count': [132589,    98960,  1395811,      156,     1138]})"
   ]
  },
  {
   "cell_type": "code",
   "execution_count": 46,
   "metadata": {},
   "outputs": [
    {
     "data": {
      "text/html": [
       "<div>\n",
       "<style scoped>\n",
       "    .dataframe tbody tr th:only-of-type {\n",
       "        vertical-align: middle;\n",
       "    }\n",
       "\n",
       "    .dataframe tbody tr th {\n",
       "        vertical-align: top;\n",
       "    }\n",
       "\n",
       "    .dataframe thead th {\n",
       "        text-align: right;\n",
       "    }\n",
       "</style>\n",
       "<table border=\"1\" class=\"dataframe\">\n",
       "  <thead>\n",
       "    <tr style=\"text-align: right;\">\n",
       "      <th></th>\n",
       "      <th>name</th>\n",
       "      <th>domain</th>\n",
       "      <th>perc_increase</th>\n",
       "      <th>account_id</th>\n",
       "      <th>site_id</th>\n",
       "      <th>url</th>\n",
       "      <th>and_condition</th>\n",
       "      <th>note</th>\n",
       "      <th>attack_category</th>\n",
       "      <th>owner</th>\n",
       "      <th>tw_count</th>\n",
       "      <th>lw_count</th>\n",
       "      <th>perc_increase_float</th>\n",
       "      <th>tw_query</th>\n",
       "      <th>lw_query</th>\n",
       "    </tr>\n",
       "  </thead>\n",
       "  <tbody>\n",
       "    <tr>\n",
       "      <th>0</th>\n",
       "      <td>first test attack alerting</td>\n",
       "      <td>www.realtor.com</td>\n",
       "      <td>5%</td>\n",
       "      <td>20f61841-e844-4532-8c08-dcd517daabb8</td>\n",
       "      <td>f44b7a05-3268-451b-ae56-79dddd9199c9</td>\n",
       "      <td>realestat</td>\n",
       "      <td>AND action is NULL</td>\n",
       "      <td>test to check if this works</td>\n",
       "      <td></td>\n",
       "      <td>Emanuele</td>\n",
       "      <td>123958</td>\n",
       "      <td>145477</td>\n",
       "      <td>0.05</td>\n",
       "      <td>SELECT COUNT(*)\\n                    FROM bon_...</td>\n",
       "      <td>SELECT COUNT(*)\\n                    FROM bon_...</td>\n",
       "    </tr>\n",
       "    <tr>\n",
       "      <th>1</th>\n",
       "      <td>first test attack alerting</td>\n",
       "      <td>www.realtor.com</td>\n",
       "      <td>7%</td>\n",
       "      <td>20f61841-e844-4532-8c08-dcd517daabb8</td>\n",
       "      <td>f44b7a05-3268-451b-ae56-79dddd9199c9</td>\n",
       "      <td>realestateandhomes-detai</td>\n",
       "      <td>AND action is NULL</td>\n",
       "      <td>test to check if this works</td>\n",
       "      <td></td>\n",
       "      <td>Emanuele</td>\n",
       "      <td>89709</td>\n",
       "      <td>107440</td>\n",
       "      <td>0.07</td>\n",
       "      <td>SELECT COUNT(*)\\n                    FROM bon_...</td>\n",
       "      <td>SELECT COUNT(*)\\n                    FROM bon_...</td>\n",
       "    </tr>\n",
       "    <tr>\n",
       "      <th>2</th>\n",
       "      <td>first test attack alerting</td>\n",
       "      <td>www.realtor.com</td>\n",
       "      <td>10%</td>\n",
       "      <td>20f61841-e844-4532-8c08-dcd517daabb8</td>\n",
       "      <td>f44b7a05-3268-451b-ae56-79dddd9199c9</td>\n",
       "      <td></td>\n",
       "      <td>AND action is NULL</td>\n",
       "      <td>test to check if this works</td>\n",
       "      <td></td>\n",
       "      <td>Emanuele</td>\n",
       "      <td>1365771</td>\n",
       "      <td>1532775</td>\n",
       "      <td>0.10</td>\n",
       "      <td>SELECT COUNT(*)\\n                    FROM bon_...</td>\n",
       "      <td>SELECT COUNT(*)\\n                    FROM bon_...</td>\n",
       "    </tr>\n",
       "    <tr>\n",
       "      <th>3</th>\n",
       "      <td>first test attack alerting</td>\n",
       "      <td>www.realtor.com</td>\n",
       "      <td>15%</td>\n",
       "      <td>20f61841-e844-4532-8c08-dcd517daabb8</td>\n",
       "      <td>f44b7a05-3268-451b-ae56-79dddd9199c9</td>\n",
       "      <td>sell</td>\n",
       "      <td>AND action is NULL</td>\n",
       "      <td>test to check if this works</td>\n",
       "      <td></td>\n",
       "      <td>Emanuele</td>\n",
       "      <td>160</td>\n",
       "      <td>181</td>\n",
       "      <td>0.15</td>\n",
       "      <td>SELECT COUNT(*)\\n                    FROM bon_...</td>\n",
       "      <td>SELECT COUNT(*)\\n                    FROM bon_...</td>\n",
       "    </tr>\n",
       "    <tr>\n",
       "      <th>4</th>\n",
       "      <td>first test attack alerting</td>\n",
       "      <td>mercury.worldremit.com</td>\n",
       "      <td>5%</td>\n",
       "      <td>2e8d6f13-c651-46ca-bfe5-2293e4586ede</td>\n",
       "      <td>32261b05-3a41-45df-ae4c-199945da4c96</td>\n",
       "      <td>/auth/login</td>\n",
       "      <td>AND action is NULL</td>\n",
       "      <td>test to check if this works</td>\n",
       "      <td></td>\n",
       "      <td>Atul</td>\n",
       "      <td>1354</td>\n",
       "      <td>1189</td>\n",
       "      <td>0.05</td>\n",
       "      <td>SELECT COUNT(*)\\n                    FROM bon_...</td>\n",
       "      <td>SELECT COUNT(*)\\n                    FROM bon_...</td>\n",
       "    </tr>\n",
       "  </tbody>\n",
       "</table>\n",
       "</div>"
      ],
      "text/plain": [
       "                         name                  domain perc_increase  \\\n",
       "0  first test attack alerting         www.realtor.com            5%   \n",
       "1  first test attack alerting         www.realtor.com            7%   \n",
       "2  first test attack alerting         www.realtor.com           10%   \n",
       "3  first test attack alerting         www.realtor.com           15%   \n",
       "4  first test attack alerting  mercury.worldremit.com            5%   \n",
       "\n",
       "                             account_id                               site_id  \\\n",
       "0  20f61841-e844-4532-8c08-dcd517daabb8  f44b7a05-3268-451b-ae56-79dddd9199c9   \n",
       "1  20f61841-e844-4532-8c08-dcd517daabb8  f44b7a05-3268-451b-ae56-79dddd9199c9   \n",
       "2  20f61841-e844-4532-8c08-dcd517daabb8  f44b7a05-3268-451b-ae56-79dddd9199c9   \n",
       "3  20f61841-e844-4532-8c08-dcd517daabb8  f44b7a05-3268-451b-ae56-79dddd9199c9   \n",
       "4  2e8d6f13-c651-46ca-bfe5-2293e4586ede  32261b05-3a41-45df-ae4c-199945da4c96   \n",
       "\n",
       "                        url       and_condition                         note  \\\n",
       "0                 realestat  AND action is NULL  test to check if this works   \n",
       "1  realestateandhomes-detai  AND action is NULL  test to check if this works   \n",
       "2                            AND action is NULL  test to check if this works   \n",
       "3                      sell  AND action is NULL  test to check if this works   \n",
       "4               /auth/login  AND action is NULL  test to check if this works   \n",
       "\n",
       "  attack_category     owner  tw_count  lw_count  perc_increase_float  \\\n",
       "0                  Emanuele    123958    145477                 0.05   \n",
       "1                  Emanuele     89709    107440                 0.07   \n",
       "2                  Emanuele   1365771   1532775                 0.10   \n",
       "3                  Emanuele       160       181                 0.15   \n",
       "4                      Atul      1354      1189                 0.05   \n",
       "\n",
       "                                            tw_query  \\\n",
       "0  SELECT COUNT(*)\\n                    FROM bon_...   \n",
       "1  SELECT COUNT(*)\\n                    FROM bon_...   \n",
       "2  SELECT COUNT(*)\\n                    FROM bon_...   \n",
       "3  SELECT COUNT(*)\\n                    FROM bon_...   \n",
       "4  SELECT COUNT(*)\\n                    FROM bon_...   \n",
       "\n",
       "                                            lw_query  \n",
       "0  SELECT COUNT(*)\\n                    FROM bon_...  \n",
       "1  SELECT COUNT(*)\\n                    FROM bon_...  \n",
       "2  SELECT COUNT(*)\\n                    FROM bon_...  \n",
       "3  SELECT COUNT(*)\\n                    FROM bon_...  \n",
       "4  SELECT COUNT(*)\\n                    FROM bon_...  "
      ]
     },
     "execution_count": 46,
     "metadata": {},
     "output_type": "execute_result"
    }
   ],
   "source": [
    "gsheet_df_queries"
   ]
  },
  {
   "cell_type": "code",
   "execution_count": 47,
   "metadata": {},
   "outputs": [
    {
     "name": "stdout",
     "output_type": "stream",
     "text": [
      "{'spreadsheetId': '10QCryRqYBlS-kE_ExHaGaSZU2JfS88BGcBss-KYr0Wk', 'updatedRange': 'queries!K2:L2', 'updatedRows': 1, 'updatedColumns': 2, 'updatedCells': 2}\n",
      "{'spreadsheetId': '10QCryRqYBlS-kE_ExHaGaSZU2JfS88BGcBss-KYr0Wk', 'updatedRange': 'queries!K3:L3', 'updatedRows': 1, 'updatedColumns': 2, 'updatedCells': 2}\n",
      "{'spreadsheetId': '10QCryRqYBlS-kE_ExHaGaSZU2JfS88BGcBss-KYr0Wk', 'updatedRange': 'queries!K4:L4', 'updatedRows': 1, 'updatedColumns': 2, 'updatedCells': 2}\n",
      "{'spreadsheetId': '10QCryRqYBlS-kE_ExHaGaSZU2JfS88BGcBss-KYr0Wk', 'updatedRange': 'queries!K5:L5', 'updatedRows': 1, 'updatedColumns': 2, 'updatedCells': 2}\n",
      "{'spreadsheetId': '10QCryRqYBlS-kE_ExHaGaSZU2JfS88BGcBss-KYr0Wk', 'updatedRange': 'queries!K6:L6', 'updatedRows': 1, 'updatedColumns': 2, 'updatedCells': 2}\n"
     ]
    }
   ],
   "source": [
    "# Update sheet\n",
    "for row in gsheet_df_queries[['tw_count', 'lw_count']].iterrows():\n",
    "    cell_address = f'K{row[0]+2}'\n",
    "    cell_value = [int(row[1]['tw_count']), int(row[1]['lw_count'])]\n",
    "    result = gsheetAPI.update_sheet(cell_address, cell_value)\n"
   ]
  },
  {
   "cell_type": "code",
   "execution_count": null,
   "metadata": {},
   "outputs": [],
   "source": []
  }
 ],
 "metadata": {
  "kernelspec": {
   "display_name": "Python 3",
   "language": "python",
   "name": "python3"
  },
  "language_info": {
   "codemirror_mode": {
    "name": "ipython",
    "version": 3
   },
   "file_extension": ".py",
   "mimetype": "text/x-python",
   "name": "python",
   "nbconvert_exporter": "python",
   "pygments_lexer": "ipython3",
   "version": "3.7.6"
  }
 },
 "nbformat": 4,
 "nbformat_minor": 4
}
