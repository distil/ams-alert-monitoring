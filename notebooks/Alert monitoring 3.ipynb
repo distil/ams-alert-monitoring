{
 "cells": [
  {
   "cell_type": "code",
   "execution_count": 1,
   "metadata": {},
   "outputs": [],
   "source": [
    "from utilities.google_client import google_sheet_API\n",
    "from utilities.athena_client import athena_API\n",
    "import multiprocessing as mp\n",
    "\n",
    "import pandas as pd\n",
    "from configparser import ConfigParser\n",
    "import os\n",
    "import pyathena\n",
    "import time"
   ]
  },
  {
   "cell_type": "code",
   "execution_count": 5,
   "metadata": {},
   "outputs": [
    {
     "data": {
      "text/plain": [
       "'%2Fauth%2Flogin'"
      ]
     },
     "execution_count": 5,
     "metadata": {},
     "output_type": "execute_result"
    }
   ],
   "source": [
    "string = '/auth/login'\n",
    "string.replace('/', '%2F')"
   ]
  },
  {
   "cell_type": "code",
   "execution_count": 3,
   "metadata": {},
   "outputs": [],
   "source": []
  },
  {
   "cell_type": "code",
   "execution_count": 2,
   "metadata": {},
   "outputs": [],
   "source": [
    "# Initialise the 2 APIs \n",
    "gsheetAPI = google_sheet_API()\n",
    "athenaAPI = athena_API()"
   ]
  },
  {
   "cell_type": "code",
   "execution_count": 3,
   "metadata": {},
   "outputs": [],
   "source": [
    "# Retrieve the sheet and add the queries\n",
    "gsheet_df = gsheetAPI.retrieve_sheet_as_df()\n",
    "gsheet_df_queries = athenaAPI.add_row_queries(gsheet_df)\n",
    "\n",
    "# Get all the queries into one array\n",
    "queries = gsheet_df_queries['tw_query'].append(gsheet_df_queries['lw_query'], ignore_index=True)"
   ]
  },
  {
   "cell_type": "code",
   "execution_count": 8,
   "metadata": {},
   "outputs": [],
   "source": [
    "# Prepare a list of dicts\n",
    "queries_list = []\n",
    "for row in gsheet_df_queries.iterrows():\n",
    "    queries_list.append({'row_idx' : row[0],\n",
    "                         'tw_query': row[1]['tw_query'],\n",
    "                         'lw_query': row[1]['lw_query']})"
   ]
  },
  {
   "cell_type": "code",
   "execution_count": 11,
   "metadata": {},
   "outputs": [
    {
     "data": {
      "text/plain": [
       "{'row_idx': 1,\n",
       " 'tw_query': \"SELECT COUNT(*)\\n                    FROM bon_log_prod.access\\n                    WHERE account_id = '20f61841-e844-4532-8c08-dcd517daabb8'\\n                      and site_id = 'f44b7a05-3268-451b-ae56-79dddd9199c9'\\n                      and access_time > date_add('minute', - 60, NOW())  -- 60*24*7 + 60\\n                      and ds >= CAST(DATE(date_add('day', -1, NOW())) as VARCHAR) -- efficency, reduces the search scope\\n                      and regexp_like(request_path, 'realestateandhomes-detai') = true\\n                      AND action is NULL\\n                      \",\n",
       " 'lw_query': \"SELECT COUNT(*)\\n                    FROM bon_log_prod.access\\n                    WHERE account_id = '20f61841-e844-4532-8c08-dcd517daabb8'\\n                      and site_id = 'f44b7a05-3268-451b-ae56-79dddd9199c9'\\n                      and access_time > date_add('minute', - 10140, NOW())  -- 60*24*7 + 60\\n                      and access_time <= date_add('minute', - 10080, NOW()) -- 60*24*7\\n                      and ds >= CAST(DATE(date_add('day', -8, NOW())) as VARCHAR) -- efficency, reduces the search scope\\n                      and ds <= CAST(DATE(date_add('day', -6, NOW())) as VARCHAR) -- efficency, reduces the search scope\\n                      and regexp_like(request_path, 'realestateandhomes-detai') = true\\n                      AND action is NULL\\n                      \"}"
      ]
     },
     "execution_count": 11,
     "metadata": {},
     "output_type": "execute_result"
    }
   ],
   "source": [
    "queries_list[1]"
   ]
  },
  {
   "cell_type": "code",
   "execution_count": null,
   "metadata": {},
   "outputs": [],
   "source": [
    "def get_data(query):\n",
    "    row_idx = query['row_idx']\n",
    "    tw_query = athenaAPI.get_pandas_df(query['tw_query'])\n",
    "    lw_query = athenaAPI.get_pandas_df(query['lw_query'])\n",
    "    return {'row_idx' : row_idx,\n",
    "            'tw_query': tw_query,\n",
    "            'lw_query': lw_query}"
   ]
  },
  {
   "cell_type": "code",
   "execution_count": null,
   "metadata": {},
   "outputs": [],
   "source": [
    "# Multiprocessing to run the queries simultaneously\n",
    "# It has to stay in the main function\n",
    "pool = mp.Pool(int(mp.cpu_count()))\n",
    "results = [pool.apply(athenaAPI.get_pandas_df, args=[query]) for query in queries_list]"
   ]
  }
 ],
 "metadata": {
  "kernelspec": {
   "display_name": "Python 3",
   "language": "python",
   "name": "python3"
  },
  "language_info": {
   "codemirror_mode": {
    "name": "ipython",
    "version": 3
   },
   "file_extension": ".py",
   "mimetype": "text/x-python",
   "name": "python",
   "nbconvert_exporter": "python",
   "pygments_lexer": "ipython3",
   "version": "3.7.6"
  }
 },
 "nbformat": 4,
 "nbformat_minor": 4
}
